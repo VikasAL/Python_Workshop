{
  "nbformat": 4,
  "nbformat_minor": 0,
  "metadata": {
    "colab": {
      "name": "Day2 Session2 Files Example.ipynb",
      "provenance": [],
      "collapsed_sections": [],
      "authorship_tag": "ABX9TyOdSZR94tl8uSLnB/Fw5HF4",
      "include_colab_link": true
    },
    "kernelspec": {
      "name": "python3",
      "display_name": "Python 3"
    }
  },
  "cells": [
    {
      "cell_type": "markdown",
      "metadata": {
        "id": "view-in-github",
        "colab_type": "text"
      },
      "source": [
        "<a href=\"https://colab.research.google.com/github/VikasAL/Python_Workshop/blob/master/Day2_Session2_Files_Example.ipynb\" target=\"_parent\"><img src=\"https://colab.research.google.com/assets/colab-badge.svg\" alt=\"Open In Colab\"/></a>"
      ]
    },
    {
      "cell_type": "markdown",
      "metadata": {
        "id": "AfoLkaMfFDSn",
        "colab_type": "text"
      },
      "source": [
        "#Python Program to count the number of lines in a text file. "
      ]
    },
    {
      "cell_type": "code",
      "metadata": {
        "id": "qpy-oISmFFXD",
        "colab_type": "code",
        "colab": {}
      },
      "source": [
        "fname = input(\"Enter file name: \")\n",
        "num_lines = 0\n",
        "with open(fname, 'r') as f:\n",
        "    for line in f:\n",
        "        num_lines += 1\n",
        "print(\"Number of lines:\")\n",
        "print(num_lines)\n"
      ],
      "execution_count": 0,
      "outputs": []
    },
    {
      "cell_type": "markdown",
      "metadata": {
        "id": "qWkwimoAFHLp",
        "colab_type": "text"
      },
      "source": [
        "#Python Program to count the number of words in a text file. "
      ]
    },
    {
      "cell_type": "code",
      "metadata": {
        "id": "CBvi0nPUFKI8",
        "colab_type": "code",
        "colab": {}
      },
      "source": [
        "fname = input(\"Enter file name: \")\n",
        "num_words = 0\n",
        "with open(fname, 'r') as f:\n",
        "    for line in f:\n",
        "        words = line.split()\n",
        "        num_words += len(words)\n",
        "print(\"Number of words:\")\n",
        "print(num_words)\n"
      ],
      "execution_count": 0,
      "outputs": []
    },
    {
      "cell_type": "markdown",
      "metadata": {
        "id": "eeufmmE5FMK-",
        "colab_type": "text"
      },
      "source": [
        "#Python Program to count the occurrences of a word in a text file."
      ]
    },
    {
      "cell_type": "code",
      "metadata": {
        "id": "zt5dFjcAFPgA",
        "colab_type": "code",
        "colab": {}
      },
      "source": [
        "name = input(\"Enter file name: \")\n",
        "word=input(\"Enter word to be searched:\")\n",
        "k = 0\n",
        "\n",
        "with open(fname, 'r') as f:\n",
        "    for line in f:\n",
        "        words = line.split()\n",
        "        for i in words:\n",
        "            if(i==word):\n",
        "                k=k+1\n",
        "print(\"Occurrences of the word:\")\n",
        "print(k\n"
      ],
      "execution_count": 0,
      "outputs": []
    },
    {
      "cell_type": "markdown",
      "metadata": {
        "id": "Dti2H4kfFROi",
        "colab_type": "text"
      },
      "source": [
        "#Python Program to copy the contents of one file into another. "
      ]
    },
    {
      "cell_type": "code",
      "metadata": {
        "id": "SBC62O9pFSyu",
        "colab_type": "code",
        "colab": {}
      },
      "source": [
        "with open(\"foo.txt\") as f:\n",
        "    with open(\"out.txt\", \"w\") as f1:\n",
        "        for line in f:\n",
        "            f1.write(line)\n"
      ],
      "execution_count": 0,
      "outputs": []
    },
    {
      "cell_type": "markdown",
      "metadata": {
        "id": "LJIiGrhaFUv2",
        "colab_type": "text"
      },
      "source": [
        "#Python Program to read the contents of the file in reverse order."
      ]
    },
    {
      "cell_type": "code",
      "metadata": {
        "id": "hLdfMY1xFXtI",
        "colab_type": "code",
        "colab": {}
      },
      "source": [
        " filename=input(\"Enter file name: \")\n",
        "    \n",
        "with open (filename,'r') as f:\n",
        "    for line in f:\n",
        "        l=line.split()\n",
        "        l.reverse() \n",
        "        st= \" \".join(l)\n",
        "        print (st)\n"
      ],
      "execution_count": 0,
      "outputs": []
    }
  ]
}