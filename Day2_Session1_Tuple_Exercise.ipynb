{
  "nbformat": 4,
  "nbformat_minor": 0,
  "metadata": {
    "colab": {
      "name": "Day2 Session1 Tuple Exercise.ipynb",
      "provenance": [],
      "collapsed_sections": [],
      "authorship_tag": "ABX9TyNbUlLKw2p+NEg9QwYjCVEN",
      "include_colab_link": true
    },
    "kernelspec": {
      "name": "python3",
      "display_name": "Python 3"
    }
  },
  "cells": [
    {
      "cell_type": "markdown",
      "metadata": {
        "id": "view-in-github",
        "colab_type": "text"
      },
      "source": [
        "<a href=\"https://colab.research.google.com/github/VikasAL/Python_Workshop/blob/master/Day2_Session1_Tuple_Exercise.ipynb\" target=\"_parent\"><img src=\"https://colab.research.google.com/assets/colab-badge.svg\" alt=\"Open In Colab\"/></a>"
      ]
    },
    {
      "cell_type": "markdown",
      "metadata": {
        "id": "QBN4fLsjAzEg",
        "colab_type": "text"
      },
      "source": [
        "#Get  a string and store word by word as elements in a tuple and find the largest word in the  tuple and print it"
      ]
    },
    {
      "cell_type": "code",
      "metadata": {
        "id": "-N2lXkx8A0JC",
        "colab_type": "code",
        "colab": {
          "base_uri": "https://localhost:8080/",
          "height": 51
        },
        "outputId": "beef5ae0-7f97-4502-d936-2be928e4fdc1"
      },
      "source": [
        "t = list()\n",
        "str = input(\"Enter the string\")\n",
        "t = str.split(' ')\n",
        "max = -1\n",
        "for ele in t: \n",
        "    if len(ele) > max: \n",
        "        max = len(ele) \n",
        "        res = ele \n",
        "print(res)"
      ],
      "execution_count": 38,
      "outputs": [
        {
          "output_type": "stream",
          "text": [
            "Enter the stringWelcome everyone, this is sample python program\n",
            "everyone,\n"
          ],
          "name": "stdout"
        }
      ]
    },
    {
      "cell_type": "markdown",
      "metadata": {
        "id": "4OAp9RGZA5G3",
        "colab_type": "text"
      },
      "source": [
        "#Get rollno and marks (Rollno, mark) as list of tuples for n number of students through keyboard  and print them in marks descending order with rollno."
      ]
    },
    {
      "cell_type": "code",
      "metadata": {
        "id": "mTAYcxfcA8LZ",
        "colab_type": "code",
        "colab": {
          "base_uri": "https://localhost:8080/",
          "height": 306
        },
        "outputId": "05c4558b-3567-4164-cd93-11cd05ec6c56"
      },
      "source": [
        "t = list()\n",
        "n = int(input(\"Enter number of students\"))\n",
        "for i in range(n):\n",
        "  t.append((input(\"Enter the student Rollno.\"), int(input(\"Enter the mark\"))))\n",
        "t = sorted(t, key = lambda x: x[1])\n",
        "tup = t[::-1]\n",
        "print(\"Rollno | Marks\")\n",
        "for i in tup:\n",
        "  print(i[0], \"   | \",  i[1])"
      ],
      "execution_count": 34,
      "outputs": [
        {
          "output_type": "stream",
          "text": [
            "Enter number of students5\n",
            "Enter the student Rollno.4AL20CS001\n",
            "Enter the mark83\n",
            "Enter the student Rollno.4AL20CS002\n",
            "Enter the mark34\n",
            "Enter the student Rollno.4AL20CS003\n",
            "Enter the mark56\n",
            "Enter the student Rollno.4AL20CS004\n",
            "Enter the mark99\n",
            "Enter the student Rollno.4AL20CS005\n",
            "Enter the mark29\n",
            "Rollno | Marks\n",
            "4AL20CS004    |  99\n",
            "4AL20CS001    |  83\n",
            "4AL20CS003    |  56\n",
            "4AL20CS002    |  34\n",
            "4AL20CS005    |  29\n"
          ],
          "name": "stdout"
        }
      ]
    },
    {
      "cell_type": "markdown",
      "metadata": {
        "id": "y6vvoBOIMA78",
        "colab_type": "text"
      },
      "source": [
        "#Get name and salary (name, salary) as list of tuples for n number of employees through keyboard  and print them in name alphabetical order with salary"
      ]
    },
    {
      "cell_type": "code",
      "metadata": {
        "id": "8PGl3fhXMCga",
        "colab_type": "code",
        "colab": {
          "base_uri": "https://localhost:8080/",
          "height": 306
        },
        "outputId": "d5a28ede-072c-4f4d-c949-7eba46911472"
      },
      "source": [
        "t = list()\n",
        "n = int(input(\"Enter number of employees\"))\n",
        "for i in range(n):\n",
        "  t.append((input(\"Enter the employee name\"), int(input(\"Enter the employee salary\"))))\n",
        "t = sorted(t)\n",
        "print(\"Name  | Salary\")\n",
        "for i in t:\n",
        "  print(i[0], \" | \",  i[1])"
      ],
      "execution_count": 37,
      "outputs": [
        {
          "output_type": "stream",
          "text": [
            "Enter number of employees5\n",
            "Enter the employee nameJhon \n",
            "Enter the employee salary35000\n",
            "Enter the employee nameBen  \n",
            "Enter the employee salary40000\n",
            "Enter the employee nameJack  \n",
            "Enter the employee salary43000\n",
            "Enter the employee nameAlex  \n",
            "Enter the employee salary32000\n",
            "Enter the employee nameRoger \n",
            "Enter the employee salary250000\n",
            "Name  | Salary\n",
            "Alex    |  32000\n",
            "Ben    |  40000\n",
            "Jack    |  43000\n",
            "Jhon   |  35000\n",
            "Roger   |  250000\n"
          ],
          "name": "stdout"
        }
      ]
    }
  ]
}