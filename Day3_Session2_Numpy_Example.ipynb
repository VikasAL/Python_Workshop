{
  "nbformat": 4,
  "nbformat_minor": 0,
  "metadata": {
    "colab": {
      "name": "Day3 Session2 Numpy Example.ipynb",
      "provenance": [],
      "collapsed_sections": [],
      "authorship_tag": "ABX9TyPOLnsjrkvknM/V7e4I6Qfz",
      "include_colab_link": true
    },
    "kernelspec": {
      "name": "python3",
      "display_name": "Python 3"
    }
  },
  "cells": [
    {
      "cell_type": "markdown",
      "metadata": {
        "id": "view-in-github",
        "colab_type": "text"
      },
      "source": [
        "<a href=\"https://colab.research.google.com/github/VikasAL/Python_Workshop/blob/master/Day3_Session2_Numpy_Example.ipynb\" target=\"_parent\"><img src=\"https://colab.research.google.com/assets/colab-badge.svg\" alt=\"Open In Colab\"/></a>"
      ]
    },
    {
      "cell_type": "markdown",
      "metadata": {
        "id": "DawlLobamB9q",
        "colab_type": "text"
      },
      "source": [
        "#Write a NumPy program to generate five random numbers from the normal distribution."
      ]
    },
    {
      "cell_type": "code",
      "metadata": {
        "id": "4tXYO0fKmD7n",
        "colab_type": "code",
        "colab": {
          "base_uri": "https://localhost:8080/",
          "height": 34
        },
        "outputId": "43509667-6cc3-428d-a48f-9e4715235668"
      },
      "source": [
        "import numpy as np\n",
        "x = np.random.normal(size=5)\n",
        "print(x)\n"
      ],
      "execution_count": 1,
      "outputs": [
        {
          "output_type": "stream",
          "text": [
            "[ 0.3308058  -0.60716213 -0.49212906  0.28782376 -0.67137192]\n"
          ],
          "name": "stdout"
        }
      ]
    },
    {
      "cell_type": "markdown",
      "metadata": {
        "id": "3Nfk7EB0mHh3",
        "colab_type": "text"
      },
      "source": [
        "#Write a NumPy program to generate six random integers between 10 and 30"
      ]
    },
    {
      "cell_type": "code",
      "metadata": {
        "id": "WkThsGG7mIpv",
        "colab_type": "code",
        "colab": {
          "base_uri": "https://localhost:8080/",
          "height": 34
        },
        "outputId": "abed2b54-f721-4a9f-bcba-0176d3d266c1"
      },
      "source": [
        "import numpy as np\n",
        "x = np.random.randint(low=10, high=30, size=6)\n",
        "print(x)\n"
      ],
      "execution_count": 2,
      "outputs": [
        {
          "output_type": "stream",
          "text": [
            "[26 17 12 16 12 15]\n"
          ],
          "name": "stdout"
        }
      ]
    },
    {
      "cell_type": "markdown",
      "metadata": {
        "id": "aJFjqoQdmK9r",
        "colab_type": "text"
      },
      "source": [
        "#Write a NumPy program to create a 3x3x3 array with random values."
      ]
    },
    {
      "cell_type": "code",
      "metadata": {
        "id": "xjEsXYJFmMNg",
        "colab_type": "code",
        "colab": {
          "base_uri": "https://localhost:8080/",
          "height": 204
        },
        "outputId": "85984e4b-45f7-4e9b-e857-bb5201b6bf18"
      },
      "source": [
        "import numpy as np\n",
        "x = np.random.random((3,3,3))\n",
        "print(x)\n"
      ],
      "execution_count": 3,
      "outputs": [
        {
          "output_type": "stream",
          "text": [
            "[[[0.86407242 0.2070341  0.7930128 ]\n",
            "  [0.24549264 0.43945017 0.08939657]\n",
            "  [0.28899437 0.03290469 0.07622957]]\n",
            "\n",
            " [[0.02447111 0.34835169 0.42111711]\n",
            "  [0.97722285 0.77599381 0.76892462]\n",
            "  [0.2351124  0.32788022 0.46890272]]\n",
            "\n",
            " [[0.47049078 0.05140341 0.02094047]\n",
            "  [0.91444939 0.7623684  0.18098034]\n",
            "  [0.71094227 0.77125921 0.035042  ]]]\n"
          ],
          "name": "stdout"
        }
      ]
    },
    {
      "cell_type": "markdown",
      "metadata": {
        "id": "ztcbxArImOh9",
        "colab_type": "text"
      },
      "source": [
        "#Write a NumPy program to create a 5x5 array with random values and find the minimum #and maximum values."
      ]
    },
    {
      "cell_type": "code",
      "metadata": {
        "id": "ZOtZtfx0mQQL",
        "colab_type": "code",
        "colab": {
          "base_uri": "https://localhost:8080/",
          "height": 153
        },
        "outputId": "53f0b74e-a4cb-49c1-d60b-7fe32e2a8f72"
      },
      "source": [
        "import numpy as np\n",
        "x = np.random.random((5,5))\n",
        "print(\"Original Array:\")\n",
        "print(x) \n",
        "xmin, xmax = x.min(), x.max()\n",
        "print(\"Minimum and Maximum Values:\")\n",
        "print(xmin, xmax)\n"
      ],
      "execution_count": 4,
      "outputs": [
        {
          "output_type": "stream",
          "text": [
            "Original Array:\n",
            "[[0.45168891 0.23953162 0.45361207 0.96061597 0.43742525]\n",
            " [0.83305422 0.80489994 0.07572522 0.53474735 0.34008523]\n",
            " [0.99301811 0.09119691 0.70073415 0.40961932 0.16615303]\n",
            " [0.44643358 0.11400821 0.12799687 0.86541545 0.76250424]\n",
            " [0.92297868 0.48222481 0.76418403 0.56212562 0.57121165]]\n",
            "Minimum and Maximum Values:\n",
            "0.0757252182867525 0.9930181127824806\n"
          ],
          "name": "stdout"
        }
      ]
    },
    {
      "cell_type": "markdown",
      "metadata": {
        "id": "zhK2M4jymSiU",
        "colab_type": "text"
      },
      "source": [
        "#Write a NumPy program to create a random 10x4 array and extract the first five rows of the array and store them into a variable."
      ]
    },
    {
      "cell_type": "code",
      "metadata": {
        "id": "pXBsQchdmXai",
        "colab_type": "code",
        "colab": {
          "base_uri": "https://localhost:8080/",
          "height": 493
        },
        "outputId": "d0178eca-c194-4678-edbc-8966ecf05b25"
      },
      "source": [
        "import numpy as np\n",
        "x = np.random.rand(10, 4)\n",
        "print(\"Original array: \")\n",
        "print(x)\n",
        "y= x[:5, :]\n",
        "print(\"First 5 rows of the above array:\")\n",
        "y= x[:5, :]\n",
        "print(y)\n",
        "z= x[:, :4]\n",
        "print(\"First 3 columns of the above array:\")\n",
        "print(z)\n"
      ],
      "execution_count": 5,
      "outputs": [
        {
          "output_type": "stream",
          "text": [
            "Original array: \n",
            "[[0.25771551 0.64855154 0.52281681 0.27493982]\n",
            " [0.90485567 0.02802533 0.43215649 0.29731404]\n",
            " [0.69337487 0.33713004 0.12205025 0.90608528]\n",
            " [0.33713088 0.2031164  0.13797393 0.4572129 ]\n",
            " [0.40947603 0.87432531 0.53370607 0.65488055]\n",
            " [0.95463565 0.93212263 0.12026655 0.06320258]\n",
            " [0.25752147 0.80082919 0.63117382 0.9436643 ]\n",
            " [0.6796725  0.41434852 0.53292198 0.58143673]\n",
            " [0.35497501 0.42852025 0.55546478 0.08296796]\n",
            " [0.60311058 0.25836852 0.20195624 0.21829241]]\n",
            "First 5 rows of the above array:\n",
            "[[0.25771551 0.64855154 0.52281681 0.27493982]\n",
            " [0.90485567 0.02802533 0.43215649 0.29731404]\n",
            " [0.69337487 0.33713004 0.12205025 0.90608528]\n",
            " [0.33713088 0.2031164  0.13797393 0.4572129 ]\n",
            " [0.40947603 0.87432531 0.53370607 0.65488055]]\n",
            "First 3 columns of the above array:\n",
            "[[0.25771551 0.64855154 0.52281681 0.27493982]\n",
            " [0.90485567 0.02802533 0.43215649 0.29731404]\n",
            " [0.69337487 0.33713004 0.12205025 0.90608528]\n",
            " [0.33713088 0.2031164  0.13797393 0.4572129 ]\n",
            " [0.40947603 0.87432531 0.53370607 0.65488055]\n",
            " [0.95463565 0.93212263 0.12026655 0.06320258]\n",
            " [0.25752147 0.80082919 0.63117382 0.9436643 ]\n",
            " [0.6796725  0.41434852 0.53292198 0.58143673]\n",
            " [0.35497501 0.42852025 0.55546478 0.08296796]\n",
            " [0.60311058 0.25836852 0.20195624 0.21829241]]\n"
          ],
          "name": "stdout"
        }
      ]
    },
    {
      "cell_type": "markdown",
      "metadata": {
        "id": "Uex12SZrmaPp",
        "colab_type": "text"
      },
      "source": [
        "#Write a NumPy program to shuffle numbers and find permutation  between 0 and 10 #(inclusive)."
      ]
    },
    {
      "cell_type": "code",
      "metadata": {
        "id": "2VK9_5uGmbmW",
        "colab_type": "code",
        "colab": {
          "base_uri": "https://localhost:8080/",
          "height": 68
        },
        "outputId": "e1e61fbb-a22d-4a3d-bc2b-d22d7e0700ae"
      },
      "source": [
        "import numpy as np\n",
        "x = np.arange(10)\n",
        "np.random.shuffle(x)\n",
        "print(x)\n",
        "print(\"Same result using permutation():\")\n",
        "print(np.random.permutation(10))\n"
      ],
      "execution_count": 6,
      "outputs": [
        {
          "output_type": "stream",
          "text": [
            "[7 6 4 2 1 5 9 3 8 0]\n",
            "Same result using permutation():\n",
            "[1 4 3 7 6 5 2 0 9 8]\n"
          ],
          "name": "stdout"
        }
      ]
    },
    {
      "cell_type": "markdown",
      "metadata": {
        "id": "jmRyhUVTmdvO",
        "colab_type": "text"
      },
      "source": [
        "#Write a NumPy program to create a random integer nos of size 10 and sort it."
      ]
    },
    {
      "cell_type": "code",
      "metadata": {
        "id": "LqNyG_X3mfQW",
        "colab_type": "code",
        "colab": {
          "base_uri": "https://localhost:8080/",
          "height": 34
        },
        "outputId": "0c3c2b06-3c7f-4c9a-dd26-084e744d183a"
      },
      "source": [
        "import numpy as np\n",
        "x=np.arange(10)\n",
        "np.random.randint(1, size=x)\n",
        "print (x)\n"
      ],
      "execution_count": 11,
      "outputs": [
        {
          "output_type": "stream",
          "text": [
            "[0 1 2 3 4 5 6 7 8 9]\n"
          ],
          "name": "stdout"
        }
      ]
    },
    {
      "cell_type": "markdown",
      "metadata": {
        "id": "_U7Z-H4emxzJ",
        "colab_type": "text"
      },
      "source": [
        "#Write a NumPy program to create a random integer nos of size 10 and sort it."
      ]
    },
    {
      "cell_type": "code",
      "metadata": {
        "id": "pIJHZUSRmzOh",
        "colab_type": "code",
        "colab": {
          "base_uri": "https://localhost:8080/",
          "height": 51
        },
        "outputId": "5e4bc632-db14-4e65-b3b5-d74cc48b159b"
      },
      "source": [
        "import numpy as np\n",
        "x=np.arange(10)\n",
        "np.random.shuffle(x)\n",
        "print(x)\n",
        "x.sort()\n",
        "print(x)\n"
      ],
      "execution_count": 9,
      "outputs": [
        {
          "output_type": "stream",
          "text": [
            "[4 2 5 3 7 9 1 6 0 8]\n",
            "[0 1 2 3 4 5 6 7 8 9]\n"
          ],
          "name": "stdout"
        }
      ]
    }
  ]
}