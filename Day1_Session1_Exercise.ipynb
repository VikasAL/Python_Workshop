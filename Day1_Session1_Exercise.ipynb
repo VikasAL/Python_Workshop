{
  "nbformat": 4,
  "nbformat_minor": 0,
  "metadata": {
    "colab": {
      "name": "Day1 Session1 Exercise.ipynb",
      "provenance": [],
      "collapsed_sections": [],
      "authorship_tag": "ABX9TyNMfMzIFZb28UGeZ9uVvdFT",
      "include_colab_link": true
    },
    "kernelspec": {
      "name": "python3",
      "display_name": "Python 3"
    }
  },
  "cells": [
    {
      "cell_type": "markdown",
      "metadata": {
        "id": "view-in-github",
        "colab_type": "text"
      },
      "source": [
        "<a href=\"https://colab.research.google.com/github/VikasAL/Python_Workshop/blob/master/Day1_Session1_Exercise.ipynb\" target=\"_parent\"><img src=\"https://colab.research.google.com/assets/colab-badge.svg\" alt=\"Open In Colab\"/></a>"
      ]
    },
    {
      "cell_type": "markdown",
      "metadata": {
        "id": "gtUIBZ_b8md4",
        "colab_type": "text"
      },
      "source": [
        "#Find the compound interest for the given p,n,r (formula : p(1+n*r/100)n )"
      ]
    },
    {
      "cell_type": "code",
      "metadata": {
        "id": "dYWhWJ_K8mls",
        "colab_type": "code",
        "outputId": "92859365-1a22-41e7-d000-3b0830d433c7",
        "colab": {
          "base_uri": "https://localhost:8080/",
          "height": 85
        }
      },
      "source": [
        "def compound_interest(principle, rate, time):\n",
        "       CI = principle * (pow((1 + rate / 100), time))\n",
        "       print(\"Compound interest is\", CI) \n",
        "p=int(input(\"enter p value: \")) \n",
        "n=int(input(\"enter n value: \")) \n",
        "r=float(input(\"enter r value: \")) \n",
        "compound_interest(p, r, n)"
      ],
      "execution_count": 0,
      "outputs": [
        {
          "output_type": "stream",
          "text": [
            "enter p value: 2000\n",
            "enter n value: 2\n",
            "enter r value: 10\n",
            "Compound interest is 2420.0000000000005\n"
          ],
          "name": "stdout"
        }
      ]
    },
    {
      "cell_type": "markdown",
      "metadata": {
        "id": "-ONX5Unb9VlX",
        "colab_type": "text"
      },
      "source": [
        "#Convert centegrade to farenheit ( f= 9/5*c+32)"
      ]
    },
    {
      "cell_type": "code",
      "metadata": {
        "id": "fnq4GHHI9VuT",
        "colab_type": "code",
        "outputId": "a806710a-94f1-4858-9499-128d630b72e6",
        "colab": {
          "base_uri": "https://localhost:8080/",
          "height": 51
        }
      },
      "source": [
        "celsius = float(input(\"Enter temperature in celsius: \"))\n",
        "fahrenheit = (celsius * 9/5) + 32\n",
        "print('%.2f Celsius is: %0.2f Fahrenheit' %(celsius, fahrenheit))"
      ],
      "execution_count": 0,
      "outputs": [
        {
          "output_type": "stream",
          "text": [
            "Enter temperature in celsius: 32\n",
            "32.00 Celsius is: 89.60 Fahrenheit\n"
          ],
          "name": "stdout"
        }
      ]
    },
    {
      "cell_type": "markdown",
      "metadata": {
        "id": "j-M5dG4j9iRr",
        "colab_type": "text"
      },
      "source": [
        "\n",
        "#Find the greater of two nos"
      ]
    },
    {
      "cell_type": "code",
      "metadata": {
        "id": "OUswTgxc9iY8",
        "colab_type": "code",
        "outputId": "59d55293-7039-42f2-9036-489931962351",
        "colab": {
          "base_uri": "https://localhost:8080/",
          "height": 85
        }
      },
      "source": [
        "a=int(input(\"enter a num : \")) \n",
        "b=int(input(\"enter a num : \")) \n",
        "print(\"greater num is : \") \n",
        "if(a>b):  \n",
        "  print(a) \n",
        "else:  \n",
        "  print(b)"
      ],
      "execution_count": 0,
      "outputs": [
        {
          "output_type": "stream",
          "text": [
            "enter a num : 4\n",
            "enter a num : 6\n",
            "greater num is : \n",
            "6\n"
          ],
          "name": "stdout"
        }
      ]
    },
    {
      "cell_type": "markdown",
      "metadata": {
        "id": "KLsF_gXg9tp-",
        "colab_type": "text"
      },
      "source": [
        "#Write a program for finding surface areas of cylinder and cone (2PIrrh, 1/3PIrrh) using function"
      ]
    },
    {
      "cell_type": "code",
      "metadata": {
        "id": "IP0wcerD9t38",
        "colab_type": "code",
        "outputId": "7d8a1c03-e56f-4300-c12f-533a1de9cc52",
        "colab": {
          "base_uri": "https://localhost:8080/",
          "height": 85
        }
      },
      "source": [
        "\n",
        "import math \n",
        "def Cylinder(r,h):  \n",
        "  return 2*math.pi*r*r*h \n",
        "def cone(r,h):  \n",
        "  return (1/3)*math.pi*r*r*h \n",
        "r=int(input(\"enter r value : \")) \n",
        "h=int(input(\"enter h value\")) \n",
        "print(\"surface area of cylinder is : %.2f\"%Cylinder(r,h)) \n",
        "print(\"surface area of cone is : %.2f \"%cone(r,h))"
      ],
      "execution_count": 0,
      "outputs": [
        {
          "output_type": "stream",
          "text": [
            "enter r value : 5\n",
            "enter h value7\n",
            "surface area of cylinder is : 1099.56\n",
            "surface area of cone is : 183.26 \n"
          ],
          "name": "stdout"
        }
      ]
    },
    {
      "cell_type": "markdown",
      "metadata": {
        "id": "BywY41wI-CPh",
        "colab_type": "text"
      },
      "source": [
        "#Find the greatest of four nos ( using ‘and’ operator) using function."
      ]
    },
    {
      "cell_type": "code",
      "metadata": {
        "id": "1xID_Qv--Cb4",
        "colab_type": "code",
        "outputId": "47d16bc7-63ae-4fde-89f4-0315fb69a897",
        "colab": {
          "base_uri": "https://localhost:8080/",
          "height": 119
        }
      },
      "source": [
        "a=int(input(\"enter 1st num: \")) \n",
        "b=int(input(\"enter 2nd num: \")) \n",
        "c=int(input(\"enter 3rd num: \")) \n",
        "d=int(input(\"enter 4th num: \")) \n",
        "print(\"greater num is : \") \n",
        "if(a>b and a>c and a>d):  \n",
        "  print(a) \n",
        "elif(b>c and b>d):  \n",
        "  print(b) \n",
        "elif(c>d):  \n",
        "  print(c) \n",
        "else:  print(d)"
      ],
      "execution_count": 0,
      "outputs": [
        {
          "output_type": "stream",
          "text": [
            "enter 1st num: 4\n",
            "enter 2nd num: 5\n",
            "enter 3rd num: 2\n",
            "enter 4th num: 9\n",
            "greater num is : \n",
            "9\n"
          ],
          "name": "stdout"
        }
      ]
    },
    {
      "cell_type": "markdown",
      "metadata": {
        "id": "qzkS_s7r-PFj",
        "colab_type": "text"
      },
      "source": [
        "#Write a menu program to perform the operations ( ODDorEven, Factorial, ODDNoUptoN, PrimeUptoN ) using functions for two nos with menu choice"
      ]
    },
    {
      "cell_type": "code",
      "metadata": {
        "id": "s9wmG2bP-PQ1",
        "colab_type": "code",
        "outputId": "c3576e61-738b-4394-8865-da3d4a99e5fb",
        "colab": {
          "base_uri": "https://localhost:8080/",
          "height": 1000
        }
      },
      "source": [
        "loop = 1 \n",
        "choice = 0 \n",
        "\n",
        "def odd(a):\n",
        "    if a%2==0:\n",
        "      print(\"Even\")\n",
        "    else:\n",
        "      print(\"Odd\") \n",
        "def factorial(a):\n",
        "    if a==1:\n",
        "      return a\n",
        "    else:\n",
        "      return a*factorial(a-1)\n",
        "def oddton(a):\n",
        "    for i in range(1,a,2):\n",
        "      print(i,end=\" \")\n",
        "def prime(upto):\n",
        "    for num in range(2, upto + 1):\n",
        "\n",
        "      i = 2\n",
        "\n",
        "      for i in range(2, num):\n",
        "          if(num % i == 0):\n",
        "              i = num\n",
        "              break;\n",
        "      if(i != num):\n",
        "          print(num, end=\" \")\n",
        "\n",
        "while loop == 1:\n",
        "    print (\"Choose\")\n",
        "    print (\"your options are:\")\n",
        "    print (\" \")\n",
        "    print(\"1) Odd or Even\")\n",
        "    print(\"2) Factorial\")\n",
        "    print(\"3) Odd upto N\")\n",
        "    print(\"4) Prime upto N\")\n",
        "    print(\"5) Quit\")\n",
        "    print(\" \")\n",
        "    try:\n",
        "        choice = int(input(\"Choose your option: \"))\n",
        "    except:\n",
        "        print('please enter a valid number for option')\n",
        "    print(\" \")\n",
        "    print(\" \")\n",
        "    if choice == 1:\n",
        "        a = int(input(\"Enter no: \"))\n",
        "        print(odd(a))\n",
        "    elif choice == 2:\n",
        "        a = int(input(\"Enter no: \"))\n",
        "        print(factorial(a))\n",
        "    elif choice == 3:\n",
        "        a = int(input(\"Enter no: \"))\n",
        "        print(\"answer is \",oddton(a))\n",
        "    elif choice == 4:\n",
        "        a = int(input(\"Enter no: \"))\n",
        "        print(prime(a))    \n",
        "    elif choice == 5:\n",
        "        loop = 0  \n",
        "    else:\n",
        "        print(\"please choice a valid option from 1 to 5\")\n",
        "        choice=0\n",
        "print (\"Thank-you!\")"
      ],
      "execution_count": 0,
      "outputs": [
        {
          "output_type": "stream",
          "text": [
            "Choose\n",
            "your options are:\n",
            " \n",
            "1) Odd or Even\n",
            "2) Factorial\n",
            "3) Odd upto N\n",
            "4) Prime upto N\n",
            "5) Quit\n",
            " \n",
            "Choose your option: 1\n",
            " \n",
            " \n",
            "Enter no: 5\n",
            "Odd\n",
            "None\n",
            "Choose\n",
            "your options are:\n",
            " \n",
            "1) Odd or Even\n",
            "2) Factorial\n",
            "3) Odd upto N\n",
            "4) Prime upto N\n",
            "5) Quit\n",
            " \n",
            "Choose your option: 2\n",
            " \n",
            " \n",
            "Enter no: 4\n",
            "24\n",
            "Choose\n",
            "your options are:\n",
            " \n",
            "1) Odd or Even\n",
            "2) Factorial\n",
            "3) Odd upto N\n",
            "4) Prime upto N\n",
            "5) Quit\n",
            " \n",
            "Choose your option: 3\n",
            " \n",
            " \n",
            "Enter no: 11\n",
            "1 3 5 7 9 answer is  None\n",
            "Choose\n",
            "your options are:\n",
            " \n",
            "1) Odd or Even\n",
            "2) Factorial\n",
            "3) Odd upto N\n",
            "4) Prime upto N\n",
            "5) Quit\n",
            " \n",
            "Choose your option: 4\n",
            " \n",
            " \n",
            "Enter no: 7\n",
            "3 5 7 None\n",
            "Choose\n",
            "your options are:\n",
            " \n",
            "1) Odd or Even\n",
            "2) Factorial\n",
            "3) Odd upto N\n",
            "4) Prime upto N\n",
            "5) Quit\n",
            " \n",
            "Choose your option: 5\n",
            " \n",
            " \n",
            "Thank-you!\n"
          ],
          "name": "stdout"
        }
      ]
    }
  ]
}