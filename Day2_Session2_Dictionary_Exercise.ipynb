{
  "nbformat": 4,
  "nbformat_minor": 0,
  "metadata": {
    "colab": {
      "name": "Day2 Session2 Dictionary Exercise.ipynb",
      "provenance": [],
      "collapsed_sections": [],
      "authorship_tag": "ABX9TyOFIaxp+FZxcgyfIQ6Ujexg",
      "include_colab_link": true
    },
    "kernelspec": {
      "name": "python3",
      "display_name": "Python 3"
    }
  },
  "cells": [
    {
      "cell_type": "markdown",
      "metadata": {
        "id": "view-in-github",
        "colab_type": "text"
      },
      "source": [
        "<a href=\"https://colab.research.google.com/github/VikasAL/Python_Workshop/blob/master/Day2_Session2_Dictionary_Exercise.ipynb\" target=\"_parent\"><img src=\"https://colab.research.google.com/assets/colab-badge.svg\" alt=\"Open In Colab\"/></a>"
      ]
    },
    {
      "cell_type": "markdown",
      "metadata": {
        "id": "0ypvIcUET1dV",
        "colab_type": "text"
      },
      "source": [
        "#Add rollno and marks {name:mark} for n number of students through keyboard in a dictionary and print the marks in descending order with respective name."
      ]
    },
    {
      "cell_type": "code",
      "metadata": {
        "id": "0yWSQhTDT4GY",
        "colab_type": "code",
        "colab": {
          "base_uri": "https://localhost:8080/",
          "height": 187
        },
        "outputId": "dfe48345-855d-462d-e256-8a53f88b5e5b"
      },
      "source": [
        "import operator\n",
        "t = {}\n",
        "n = int(input(\"Enter number of students\"))\n",
        "for i in range(n):\n",
        "  key = input(\"Enter the name\")\n",
        "  value = input(\"Enter the marks\")\n",
        "  t[key] = value\n",
        "a = sorted(t.items(), key=operator.itemgetter(1), reverse=True)\n",
        "for i in a:\n",
        "  print(i[0],\"=\",t[i[0]])"
      ],
      "execution_count": 2,
      "outputs": [
        {
          "output_type": "stream",
          "text": [
            "Enter number of students3\n",
            "Enter the nameben\n",
            "Enter the marks65\n",
            "Enter the namehenry\n",
            "Enter the marks89\n",
            "Enter the namedanny\n",
            "Enter the marks45\n",
            "henry = 89\n",
            "ben = 65\n",
            "danny = 45\n"
          ],
          "name": "stdout"
        }
      ]
    },
    {
      "cell_type": "markdown",
      "metadata": {
        "id": "CSncB0lUavPN",
        "colab_type": "text"
      },
      "source": [
        "#2.\tAdd  name and salary {name:salary} for n number of employees through keyboard in a dictionary and print them in name alphabetical order with salary"
      ]
    },
    {
      "cell_type": "code",
      "metadata": {
        "id": "Vf_DKFskawag",
        "colab_type": "code",
        "colab": {
          "base_uri": "https://localhost:8080/",
          "height": 187
        },
        "outputId": "5670ed15-7739-4d14-c805-8c9c70963fae"
      },
      "source": [
        "t = {}\n",
        "n = int(input(\"Enter number of employees\"))\n",
        "for i in range(n):\n",
        "  key = input(\"Enter the name\")\n",
        "  value = input(\"Enter the salary\")\n",
        "  t[key] = value\n",
        "a = sorted(t)\n",
        "for i in a:\n",
        "  print(i, \"=>\",t[i])"
      ],
      "execution_count": null,
      "outputs": [
        {
          "output_type": "stream",
          "text": [
            "Enter number of employees3\n",
            "Enter the namegirish\n",
            "Enter the salary3000\n",
            "Enter the nameajay\n",
            "Enter the salary5433\n",
            "Enter the namevijay\n",
            "Enter the salary5000\n",
            "ajay => 5433\n",
            "girish => 3000\n",
            "vijay => 5000\n"
          ],
          "name": "stdout"
        }
      ]
    },
    {
      "cell_type": "markdown",
      "metadata": {
        "id": "TFpV3e_sbP9D",
        "colab_type": "text"
      },
      "source": [
        "#3.\tAdd  name and salary {name:salary} for n number of employees through keyboard in a dictionary and print them in salary  ascending order and  sum, max, min and average of the salaries"
      ]
    },
    {
      "cell_type": "code",
      "metadata": {
        "id": "mInTPVl5bRg4",
        "colab_type": "code",
        "colab": {
          "base_uri": "https://localhost:8080/",
          "height": 255
        },
        "outputId": "12d6c74d-2c0d-4311-b789-303f02ce37d2"
      },
      "source": [
        "import operator\n",
        "t = {}\n",
        "n = int(input(\"Enter number of employees\"))\n",
        "for i in range(n):\n",
        "  key = input(\"Enter the name\")\n",
        "  value = int(input(\"Enter the salary\"))\n",
        "  t[key] = value\n",
        "a = sorted(t.items(), key=operator.itemgetter(1))\n",
        "for i in a:\n",
        "  print(i[0],\"=\",t[i[0]])\n",
        "val = t.values()\n",
        "print(\"sum = \",sum(val))\n",
        "print(\"maximum value = \",max(t.values()))\n",
        "print(\"minimum value = \",min(t.values()))\n",
        "print(\"Average value = \",sum(val)/n)"
      ],
      "execution_count": 12,
      "outputs": [
        {
          "output_type": "stream",
          "text": [
            "Enter number of employees3\n",
            "Enter the nameFarook\n",
            "Enter the salary86\n",
            "Enter the nameHafeez\n",
            "Enter the salary58\n",
            "Enter the nameJaved\n",
            "Enter the salary96\n",
            "Hafeez = 58\n",
            "Farook = 86\n",
            "Javed = 96\n",
            "sum =  240\n",
            "maximum value =  96\n",
            "minimum value =  58\n",
            "Average value =  80.0\n"
          ],
          "name": "stdout"
        }
      ]
    },
    {
      "cell_type": "markdown",
      "metadata": {
        "id": "ypRqEuyfhFL3",
        "colab_type": "text"
      },
      "source": [
        "#4.\tAdd name and salary {name:salary} for n number of employees through keyboard in a dictionary and print only the employees whose salary is greater than 2000 but less than 4000"
      ]
    },
    {
      "cell_type": "code",
      "metadata": {
        "id": "FyVxrU7chGOx",
        "colab_type": "code",
        "colab": {
          "base_uri": "https://localhost:8080/",
          "height": 153
        },
        "outputId": "a498718c-1ec3-4401-d90b-ea7422076ddb"
      },
      "source": [
        "t = {}\n",
        "n = int(input(\"Enter number of employees\"))\n",
        "for i in range(n):\n",
        "  key = input(\"Enter the name\")\n",
        "  value = int(input(\"Enter the salary\"))\n",
        "  t[key] = value\n",
        "for i in t:\n",
        "  if int(t[i])>2000 and int(t[i])<4000:\n",
        "    print(t[i])"
      ],
      "execution_count": null,
      "outputs": [
        {
          "output_type": "stream",
          "text": [
            "Enter number of employees3\n",
            "Enter the nameharish\n",
            "Enter the salary3500\n",
            "Enter the namebhoomi\n",
            "Enter the salary1500\n",
            "Enter the nametom\n",
            "Enter the salary5000\n",
            "3500\n"
          ],
          "name": "stdout"
        }
      ]
    },
    {
      "cell_type": "markdown",
      "metadata": {
        "id": "yLWUNHFWiQNx",
        "colab_type": "text"
      },
      "source": [
        "#5.\tPython program to convert a 3 digit number  into words"
      ]
    },
    {
      "cell_type": "code",
      "metadata": {
        "id": "VOqUO0_giRNc",
        "colab_type": "code",
        "colab": {
          "base_uri": "https://localhost:8080/",
          "height": 51
        },
        "outputId": "84ab4081-3770-4b97-ec26-72db553ec146"
      },
      "source": [
        "d={0:'',1:'one',2:'two',3:'three',4:'four',5:'five',6:'six',7:'seven',8:'eight',9:'nine',\\\n",
        "   10:'ten',11:'eleven',12:'twelve',13:'thirteen',14:'fourteen',15:'fifteen',16:'sixteen',\\\n",
        "   17:'seventeen',18:'eightteen',19:'nineteen',20:'twenty',30:'thirty',40:'fourty',50:'fifty',\\\n",
        "   60:'sixty',70:'seventy',80:'eighty',90:'ninty',100:'hundred'}\n",
        "\n",
        "num=int(input(\"Enter the integer between 1 to 999:\"))\n",
        "if (num<=20):\n",
        "      print(d[num])\n",
        "if(num>20 and num<100):\n",
        "        if num%10==0:       \n",
        "            print(d[num])\n",
        "        else:\n",
        "            print(d[num//10*10]+\" \"+d[num%10])\n",
        "if(num>99 and num<1000):\n",
        "        if(num>100 and num<199):\n",
        "            print(d[num//10//10*100]+\" \"+d[num//10%10*10]+\" \"+d[num%10])\n",
        "        else:\n",
        "            print(d[num//100]+d[100]+\" \"+d[num//10%10*10]+\" \"+d[num%10])\n"
      ],
      "execution_count": null,
      "outputs": [
        {
          "output_type": "stream",
          "text": [
            "Enter the integer between 1 to 999:999\n",
            "ninehundred ninty nine\n"
          ],
          "name": "stdout"
        }
      ]
    }
  ]
}